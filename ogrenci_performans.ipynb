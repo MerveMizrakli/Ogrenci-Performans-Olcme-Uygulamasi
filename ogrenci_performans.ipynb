{
 "cells": [
  {
   "cell_type": "code",
   "execution_count": null,
   "id": "19b12bfe",
   "metadata": {},
   "outputs": [],
   "source": [
    "import sys\n",
    "!{sys.executable} -m pip install pandas numpy matplotlib seaborn scikit-learn\n"
   ]
  },
  {
   "cell_type": "code",
   "execution_count": null,
   "id": "09e93a66",
   "metadata": {},
   "outputs": [],
   "source": [
    "import sys\n",
    "!{sys.executable} -m pip install openpyxl"
   ]
  },
  {
   "cell_type": "code",
   "execution_count": null,
   "id": "b5d7227d",
   "metadata": {},
   "outputs": [],
   "source": [
    "import pandas as pd\n",
    "import numpy as np\n",
    "import matplotlib.pyplot as plt\n",
    "import seaborn as sns\n",
    "\n",
    "from sklearn.preprocessing import LabelEncoder\n",
    "from sklearn.model_selection import train_test_split\n",
    "from sklearn.tree import DecisionTreeRegressor\n",
    "from sklearn.linear_model import LinearRegression\n",
    "from sklearn.metrics import mean_squared_error, r2_score\n"
   ]
  },
  {
   "cell_type": "code",
   "execution_count": 6,
   "id": "e1f6b924",
   "metadata": {},
   "outputs": [
    {
     "data": {
      "text/html": [
       "<div>\n",
       "<style scoped>\n",
       "    .dataframe tbody tr th:only-of-type {\n",
       "        vertical-align: middle;\n",
       "    }\n",
       "\n",
       "    .dataframe tbody tr th {\n",
       "        vertical-align: top;\n",
       "    }\n",
       "\n",
       "    .dataframe thead th {\n",
       "        text-align: right;\n",
       "    }\n",
       "</style>\n",
       "<table border=\"1\" class=\"dataframe\">\n",
       "  <thead>\n",
       "    <tr style=\"text-align: right;\">\n",
       "      <th></th>\n",
       "      <th>Cinsiyet</th>\n",
       "      <th>Ebeveyn Egitim Seviyesi</th>\n",
       "      <th>Okul Yemekhanesi</th>\n",
       "      <th>Ozel Ders</th>\n",
       "      <th>Matematik</th>\n",
       "      <th>Okuma</th>\n",
       "      <th>Yazma</th>\n",
       "      <th>Genel_Basari</th>\n",
       "    </tr>\n",
       "  </thead>\n",
       "  <tbody>\n",
       "    <tr>\n",
       "      <th>0</th>\n",
       "      <td>1</td>\n",
       "      <td>0</td>\n",
       "      <td>1</td>\n",
       "      <td>1</td>\n",
       "      <td>72</td>\n",
       "      <td>72</td>\n",
       "      <td>74</td>\n",
       "      <td>72.666667</td>\n",
       "    </tr>\n",
       "    <tr>\n",
       "      <th>1</th>\n",
       "      <td>1</td>\n",
       "      <td>2</td>\n",
       "      <td>1</td>\n",
       "      <td>0</td>\n",
       "      <td>69</td>\n",
       "      <td>90</td>\n",
       "      <td>88</td>\n",
       "      <td>82.333333</td>\n",
       "    </tr>\n",
       "    <tr>\n",
       "      <th>2</th>\n",
       "      <td>1</td>\n",
       "      <td>3</td>\n",
       "      <td>1</td>\n",
       "      <td>1</td>\n",
       "      <td>90</td>\n",
       "      <td>95</td>\n",
       "      <td>93</td>\n",
       "      <td>92.666667</td>\n",
       "    </tr>\n",
       "    <tr>\n",
       "      <th>3</th>\n",
       "      <td>0</td>\n",
       "      <td>2</td>\n",
       "      <td>0</td>\n",
       "      <td>1</td>\n",
       "      <td>47</td>\n",
       "      <td>57</td>\n",
       "      <td>44</td>\n",
       "      <td>49.333333</td>\n",
       "    </tr>\n",
       "    <tr>\n",
       "      <th>4</th>\n",
       "      <td>0</td>\n",
       "      <td>2</td>\n",
       "      <td>1</td>\n",
       "      <td>1</td>\n",
       "      <td>76</td>\n",
       "      <td>78</td>\n",
       "      <td>75</td>\n",
       "      <td>76.333333</td>\n",
       "    </tr>\n",
       "  </tbody>\n",
       "</table>\n",
       "</div>"
      ],
      "text/plain": [
       "   Cinsiyet  Ebeveyn Egitim Seviyesi  Okul Yemekhanesi  Ozel Ders  Matematik  \\\n",
       "0         1                        0                 1          1         72   \n",
       "1         1                        2                 1          0         69   \n",
       "2         1                        3                 1          1         90   \n",
       "3         0                        2                 0          1         47   \n",
       "4         0                        2                 1          1         76   \n",
       "\n",
       "   Okuma  Yazma  Genel_Basari  \n",
       "0     72     74     72.666667  \n",
       "1     90     88     82.333333  \n",
       "2     95     93     92.666667  \n",
       "3     57     44     49.333333  \n",
       "4     78     75     76.333333  "
      ]
     },
     "execution_count": 6,
     "metadata": {},
     "output_type": "execute_result"
    }
   ],
   "source": [
    "df = pd.read_excel(\"Ogrenci_Performans.xlsx\")\n",
    "\n",
    "categorical_columns = [\"Cinsiyet\", \"Ebeveyn Egitim Seviyesi\", \"Okul Yemekhanesi\", \"Ozel Ders\"]\n",
    "for col in categorical_columns:\n",
    "    le = LabelEncoder()\n",
    "    df[col] = le.fit_transform(df[col])\n",
    "\n",
    "df[\"Genel_Basari\"] = df[[\"Matematik\", \"Okuma\", \"Yazma\"]].mean(axis=1)\n",
    "\n",
    "df.head()\n"
   ]
  },
  {
   "cell_type": "code",
   "execution_count": 7,
   "id": "8458717e",
   "metadata": {},
   "outputs": [
    {
     "name": "stdout",
     "output_type": "stream",
     "text": [
      "Decision Tree MSE: 211.21024532509728\n",
      "Decision Tree R2: 0.014723944086287521\n",
      "Linear Regression MSE: 211.21024532509728\n",
      "Linear Regression R2: 0.014723944086287521\n"
     ]
    }
   ],
   "source": [
    "X = df[[\"Ozel Ders\"]]\n",
    "y = df[\"Genel_Basari\"]\n",
    "\n",
    "X_train, X_test, y_train, y_test = train_test_split(X, y, test_size=0.2, random_state=42)\n",
    "\n",
    "tree_model = DecisionTreeRegressor(random_state=42)\n",
    "tree_model.fit(X_train, y_train)\n",
    "tree_preds = tree_model.predict(X_test)\n",
    "\n",
    "linear_model = LinearRegression()\n",
    "linear_model.fit(X_train, y_train)\n",
    "linear_preds = linear_model.predict(X_test)\n",
    "\n",
    "print(\"Decision Tree MSE:\", mean_squared_error(y_test, tree_preds))\n",
    "print(\"Decision Tree R2:\", r2_score(y_test, tree_preds))\n",
    "print(\"Linear Regression MSE:\", mean_squared_error(y_test, linear_preds))\n",
    "print(\"Linear Regression R2:\", r2_score(y_test, linear_preds))\n"
   ]
  },
  {
   "cell_type": "code",
   "execution_count": 8,
   "id": "ec91d1c9",
   "metadata": {},
   "outputs": [
    {
     "data": {
      "text/plain": [
       "Okul Yemekhanesi           0.354991\n",
       "Ozel Ders                  0.291768\n",
       "Ebeveyn Egitim Seviyesi    0.244419\n",
       "Cinsiyet                   0.108822\n",
       "dtype: float64"
      ]
     },
     "execution_count": 8,
     "metadata": {},
     "output_type": "execute_result"
    }
   ],
   "source": [
    "features = [\"Cinsiyet\", \"Ebeveyn Egitim Seviyesi\", \"Okul Yemekhanesi\", \"Ozel Ders\"]\n",
    "X_all = df[features]\n",
    "y_all = df[\"Genel_Basari\"]\n",
    "\n",
    "tree = DecisionTreeRegressor(random_state=42)\n",
    "tree.fit(X_all, y_all)\n",
    "\n",
    "importance = pd.Series(tree.feature_importances_, index=features).sort_values(ascending=False)\n",
    "importance\n"
   ]
  },
  {
   "cell_type": "code",
   "execution_count": 9,
   "id": "de84f1e1",
   "metadata": {},
   "outputs": [
    {
     "data": {
      "image/png": "[encoded data removed]",
      "text/plain": [
       "<Figure size 640x480 with 1 Axes>"
      ]
     },
     "metadata": {},
     "output_type": "display_data"
    }
   ],
   "source": [
    "importance.plot(kind=\"barh\")\n",
    "plt.title(\"Faktör Önem Dereceleri\")\n",
    "plt.xlabel(\"Önem Skoru\")\n",
    "plt.show()\n"
   ]
  },
  {
   "cell_type": "code",
   "execution_count": 10,
   "id": "4cb4c44c",
   "metadata": {},
   "outputs": [
    {
     "name": "stdout",
     "output_type": "stream",
     "text": [
      "Okuma - Yazma R2: 0.9112574888913137\n",
      "Okuma - Matematik R2: 0.668436506450109\n",
      "Okuma - Yazma korelasyon: 0.9545980771462479\n",
      "Okuma - Matematik korelasyon: 0.817579663672055\n"
     ]
    }
   ],
   "source": [
    "X_read = df[[\"Okuma\"]]\n",
    "y_write = df[\"Yazma\"]\n",
    "y_math = df[\"Matematik\"]\n",
    "\n",
    "model_write = LinearRegression().fit(X_read, y_write)\n",
    "model_math = LinearRegression().fit(X_read, y_math)\n",
    "\n",
    "print(\"Okuma - Yazma R2:\", model_write.score(X_read, y_write))\n",
    "print(\"Okuma - Matematik R2:\", model_math.score(X_read, y_math))\n",
    "\n",
    "print(\"Okuma - Yazma korelasyon:\", df[\"Okuma\"].corr(df[\"Yazma\"]))\n",
    "print(\"Okuma - Matematik korelasyon:\", df[\"Okuma\"].corr(df[\"Matematik\"]))\n"
   ]
  }
 ],
 "metadata": {
  "kernelspec": {
   "display_name": "Python 3",
   "language": "python",
   "name": "python3"
  },
  "language_info": {
   "codemirror_mode": {
    "name": "ipython",
    "version": 3
   },
   "file_extension": ".py",
   "mimetype": "text/x-python",
   "name": "python",
   "nbconvert_exporter": "python",
   "pygments_lexer": "ipython3",
   "version": "3.10.6"
  }
 },
 "nbformat": 4,
 "nbformat_minor": 5
}
